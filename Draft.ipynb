{
  "cells": [
    {
      "cell_type": "markdown",
      "metadata": {
        "id": "view-in-github",
        "colab_type": "text"
      },
      "source": [
        "<a href=\"https://colab.research.google.com/github/toocmafinh/mis779/blob/main/Draft.ipynb\" target=\"_parent\"><img src=\"https://colab.research.google.com/assets/colab-badge.svg\" alt=\"Open In Colab\"/></a>"
      ]
    },
    {
      "cell_type": "code",
      "source": [
        "from google.colab import drive\n",
        "drive.mount('/content/drive')"
      ],
      "metadata": {
        "id": "S7A3sNeX6vEt",
        "outputId": "e4b72b44-d3be-4be6-d8e0-5221349a3343",
        "colab": {
          "base_uri": "https://localhost:8080/"
        }
      },
      "execution_count": 1,
      "outputs": [
        {
          "output_type": "stream",
          "name": "stdout",
          "text": [
            "Mounted at /content/drive\n"
          ]
        }
      ]
    },
    {
      "cell_type": "code",
      "source": [
        "# Define the path to the file in Google Drive\n",
        "file_path = '/content/drive/MyDrive/Colab Notebooks/Datasets/Deakin Bounceback Audiences.txt'\n",
        "\n",
        "# Read and print the content of the file\n",
        "with open(file_path, 'r') as file:\n",
        "    audiences = file.read()\n",
        "\n",
        "print(audiences)\n",
        "\n",
        "audiences"
      ],
      "metadata": {
        "id": "qVr3E2cv4zF3"
      },
      "execution_count": null,
      "outputs": []
    }
  ],
  "metadata": {
    "colab": {
      "name": "Welcome to Colaboratory",
      "provenance": [],
      "include_colab_link": true
    },
    "kernelspec": {
      "display_name": "Python 3",
      "name": "python3"
    }
  },
  "nbformat": 4,
  "nbformat_minor": 0
}